{
 "cells": [
  {
   "cell_type": "markdown",
   "metadata": {},
   "source": [
    "## Проверка "
   ]
  },
  {
   "cell_type": "code",
   "execution_count": 130,
   "metadata": {},
   "outputs": [],
   "source": [
    "import os\n",
    "from PIL import Image\n"
   ]
  },
  {
   "cell_type": "code",
   "execution_count": 138,
   "metadata": {},
   "outputs": [],
   "source": [
    "class ImageConverter:\n",
    "    def __init__(self, alphabet_image, rows, cols):\n",
    "        self.alphabet_image = alphabet_image  # Исходное изображение алфавита\n",
    "        self.rows = rows  # Количество рядов в изображении алфавита\n",
    "        self.cols = cols  # Количество колонок в изображении алфавита\n",
    "        self.alphabet_dict = self._create_alphabet_dict(alphabet_image, rows, cols)  # Заполнение словаря алфавита\n",
    "\n",
    "    def _create_alphabet_dict(self, image, rows, cols):\n",
    "        width, height = image.size  # Размеры изображения\n",
    "        cell_width = width // cols  # Ширина одной ячейки\n",
    "        cell_height = height // rows  # Высота одной ячейки\n",
    "        alphabet_dict = {}  # Словарь для хранения изображений символов\n",
    "\n",
    "        letters = 'АБВГДЕЖЗИЙКЛМНОПРСТУФХЦЧШЩЪЫЬЭЮЯ'  # Русский алфавит\n",
    "        index = 0\n",
    "\n",
    "        for row in range(rows):\n",
    "            for col in range(cols):\n",
    "                if index >= len(letters):\n",
    "                    break\n",
    "                char = letters[index]\n",
    "                left = col * cell_width  # Левая координата обрезки\n",
    "                upper = row * cell_height  # Верхняя координата обрезки\n",
    "                right = left + cell_width  # Правая координата обрезки\n",
    "                lower = upper + cell_height  # Нижняя координата обрезки\n",
    "                alphabet_dict[char] = image.crop((left, upper, right, lower))  # Нарезка и добавление изображения\n",
    "                index += 1\n",
    "\n",
    "        return alphabet_dict  # Возвращение словаря алфавита\n",
    "\n",
    "    def text_to_image(self, text, chars_per_line=10, max_char_width=None, thumbnail_size=None):\n",
    "        lines = [text[i:i + chars_per_line] for i in range(0, len(text), chars_per_line)]  # Разбиение текста на строки\n",
    "        first_image = list(self.alphabet_dict.values())[0]\n",
    "        char_width, char_height = first_image.size  # Размер одного символа\n",
    "\n",
    "        img_width = chars_per_line * char_width  # Ширина итогового изображения\n",
    "        img_height = len(lines) * char_height  # Высота итогового изображения\n",
    "        output_image = Image.new('RGB', (img_width, img_height), (255, 255, 255))  # Создание белого фона итогового изображения\n",
    "\n",
    "        for line_index, line in enumerate(lines):  # Перебор строк текста\n",
    "            for char_index, char in enumerate(line):  # Перебор символов в строке\n",
    "                if char == ' ':  # Пропуск пробела\n",
    "                    continue\n",
    "                if char.upper() in self.alphabet_dict:  # Проверка, что символ есть в алфавите\n",
    "                    char_image = self.alphabet_dict[char.upper()]  # Получение изображения символа\n",
    "                    x = char_index * char_width  # Координата X для вставки символа\n",
    "                    y = line_index * char_height  # Координата Y для вставки символа\n",
    "                    output_image.paste(char_image, (x, y))  # Вставка символа в итоговое изображение\n",
    "\n",
    "        if thumbnail_size:  # Проверка на наличие размера для уменьшения изображения\n",
    "            output_image.thumbnail(thumbnail_size)  # Уменьшение изображения до заданного размера\n",
    "\n",
    "        return output_image  # Возвращение итогового изображения\n",
    "\n",
    "    # Функция для создания экземпляра класса из файла\n",
    "    def from_file(file_path, rows, cols):\n",
    "        if not os.path.exists(file_path):  # Проверка существования файла\n",
    "            raise FileNotFoundError(f\"File not found: {file_path}\")  # Исключение, если файл не найден\n",
    "        image = Image.open(file_path)  # Открытие изображения\n",
    "        return ImageConverter(image, rows, cols)  # Создание экземпляра класса с изображением"
   ]
  },
  {
   "cell_type": "code",
   "execution_count": 141,
   "metadata": {},
   "outputs": [],
   "source": [
    "# Пример использования класса\n",
    "image_path = 'C:\\\\Exam_Python_231-3211\\\\Alphabet gestures.jpg'  # Путь к изображению алфавита\n",
    "\n",
    "# Создание экземпляра класса из файла\n",
    "converter = ImageConverter.from_file(image_path, rows=4, cols=8)\n",
    "\n",
    "# Конвертация текста в изображение\n",
    "text = \"экзамен\"\n",
    "result_image = converter.text_to_image(text, chars_per_line=7, thumbnail_size=(300, 300))\n",
    "\n",
    "# Сохранение и отображение результата\n",
    "result_image.save('result.png')\n",
    "result_image.show()"
   ]
  },
  {
   "cell_type": "code",
   "execution_count": 142,
   "metadata": {},
   "outputs": [],
   "source": [
    "# Пример использования класса\n",
    "alphabet_image_path = 'Alphabet gestures v2.jpg'  # Путь к изображению алфавита\n",
    "\n",
    "converter = ImageConverter.from_file(alphabet_image_path, rows=4, cols=8)\n",
    "\n",
    "text = \"Экзамен\"\n",
    "result_image = converter.text_to_image(text, chars_per_line=7, thumbnail_size=(300, 300))\n",
    "\n",
    "result_image.save('result.png')\n",
    "result_image.show()"
   ]
  },
  {
   "cell_type": "code",
   "execution_count": 146,
   "metadata": {},
   "outputs": [],
   "source": [
    "# Пример использования класса\n",
    "alphabet_image_path = 'Alphabet gestures v2.jpg'  # Путь к изображению алфавита\n",
    "\n",
    "converter = ImageConverter.from_file(alphabet_image_path, rows=4, cols=8)\n",
    "\n",
    "text = \"Привет друг\"\n",
    "result_image = converter.text_to_image(text, chars_per_line=7, thumbnail_size=(250, 300))\n",
    "\n",
    "result_image.save('result.png')\n",
    "result_image.show()"
   ]
  }
 ],
 "metadata": {
  "kernelspec": {
   "display_name": "Python 3",
   "language": "python",
   "name": "python3"
  },
  "language_info": {
   "codemirror_mode": {
    "name": "ipython",
    "version": 3
   },
   "file_extension": ".py",
   "mimetype": "text/x-python",
   "name": "python",
   "nbconvert_exporter": "python",
   "pygments_lexer": "ipython3",
   "version": "3.12.1"
  }
 },
 "nbformat": 4,
 "nbformat_minor": 2
}
